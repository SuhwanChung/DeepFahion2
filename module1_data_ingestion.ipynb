{
  "nbformat": 4,
  "nbformat_minor": 0,
  "metadata": {
    "colab": {
      "provenance": [],
      "authorship_tag": "ABX9TyOQE9X2vR+QFBCbV/PuP3DF",
      "include_colab_link": true
    },
    "kernelspec": {
      "name": "python3",
      "display_name": "Python 3"
    },
    "language_info": {
      "name": "python"
    }
  },
  "cells": [
    {
      "cell_type": "markdown",
      "metadata": {
        "id": "view-in-github",
        "colab_type": "text"
      },
      "source": [
        "<a href=\"https://colab.research.google.com/github/SuhwanChung/DeepFahion2/blob/main/module1_data_ingestion.ipynb\" target=\"_parent\"><img src=\"https://colab.research.google.com/assets/colab-badge.svg\" alt=\"Open In Colab\"/></a>"
      ]
    },
    {
      "cell_type": "markdown",
      "source": [
        "**강의목표**\n",
        "\n",
        "1. 파이썬 Pandas 패키지를 활용하여 다양한 형태의 데이터 (Excel, 설문조사)를 수집/정제하는 법에 대해 학습합니다.\n",
        "\n",
        "2. 파이썬을 활용하여 데이터 베이스에서 데이터를 불러오는 Query에 대해서 학습합니다\n",
        "\n",
        "2. 네이버 API를 활용하여 키워드 트랜드 데이터를 수집/정제하는 방법에 대해 학습합니다.\n",
        "\n",
        "3. 파이썬을 통해 Import한 다양한 데이터를 Combine하여 data frame으로 변환하는 방법에 대해 학습합니다.\n"
      ],
      "metadata": {
        "id": "YySWRUVjC2Q-"
      }
    },
    {
      "cell_type": "markdown",
      "source": [
        "**목표역량**\n",
        "1. Python을 활용하여 데이터 수집/정제과정을 자동화하여 내 업무에 효과적으로 적응할 수 있습니다.\n",
        "\n",
        "2. 네이버 키워드 트랜드를 자동으로 수집하는 나만의 Python module을 만들어서 다양한 비즈니스 인사이트 창출에 활용할 수 있습니다."
      ],
      "metadata": {
        "id": "epw8-ubGEBie"
      }
    },
    {
      "cell_type": "code",
      "source": [],
      "metadata": {
        "id": "5Rq-1g2pC1fU"
      },
      "execution_count": null,
      "outputs": []
    }
  ]
}